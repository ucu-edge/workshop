{
 "cells": [
  {
   "cell_type": "code",
   "execution_count": 48,
   "id": "rural-ecuador",
   "metadata": {},
   "outputs": [],
   "source": [
    "import json\n",
    "import math\n",
    "from typing import Tuple, List\n",
    "\n",
    "%matplotlib inline\n",
    "from matplotlib import pyplot as plt\n",
    "import numpy as np\n",
    "import pandas as pd\n",
    "from sklearn.preprocessing import StandardScaler, MinMaxScaler\n",
    "from sklearn.model_selection import train_test_split\n",
    "from sklearn.metrics import mean_squared_error\n",
    "\n",
    "from tensorflow.keras.models import Sequential\n",
    "from tensorflow.keras.layers import LSTM, Dense\n",
    "from tensorflow.keras import Model, Input\n",
    "from pickle import dump\n",
    "\n",
    "from configs import LSTMConfig"
   ]
  },
  {
   "cell_type": "code",
   "execution_count": 6,
   "id": "occasional-damages",
   "metadata": {},
   "outputs": [],
   "source": [
    "# PART 1. Data processing."
   ]
  },
  {
   "cell_type": "code",
   "execution_count": 38,
   "id": "front-vertex",
   "metadata": {},
   "outputs": [],
   "source": [
    "class UnivariateMultiTransformer:\n",
    "    \"\"\"Represents data preparation for the LSTM model.\n",
    "    \n",
    "    Attributes:\n",
    "        sequence (pd.DadaFrame): uploaded resampled \n",
    "            time series.\n",
    "        path (str): path to .csv with the data.\n",
    "        scaler (sklearn.preprocessing object): scaler used to scale\n",
    "            sequence.\n",
    "        train (pd.DataFrame): training dataset.\n",
    "        test (pd.DataFrame): test dataset.\n",
    "        train_scaled (pd.DataFrame): scaled training dataset.\n",
    "        test_scaled (pd.DataFrame): scaled test dataset.\n",
    "    \n",
    "    Methods:\n",
    "        _upload(path: str, sample): uploads file from path.\n",
    "        set_month_range(months): provides sub-frame based on months.\n",
    "        train_test_split(train_percent): \n",
    "            splits sequence to train and test (validation) sets.\n",
    "        scale(scaling): scales sequence to [0, 1] range ('norm').\n",
    "        transform(data_type, n_in, n_out, dropnan):\n",
    "            converts train and test sequences to classification problem.\n",
    "        model_input_reshape(x1, x2): reshapes 2D arrays to 3D arrays.\n",
    "        save_scaler(path): saves scaler to the provided file path. \n",
    "\n",
    "    \"\"\"\n",
    "    \n",
    "    def __init__(self, path: str) -> None:\n",
    "        \"\"\"Initializes UnivariateMultiTransformer.\n",
    "        \n",
    "        Args:\n",
    "            path (str): path to .csv with the data.\n",
    "\n",
    "        Returns:\n",
    "            None.\n",
    "        \"\"\"\n",
    "        \n",
    "        self.sequence = self._upload(path)\n",
    "        self.scaler = None\n",
    "        self.train = None\n",
    "        self.test = None\n",
    "        self.train_scaled = None\n",
    "        self._test_scaled = None\n",
    "    \n",
    "    def _upload(self, path: str, sample='60min') -> None:\n",
    "        \"\"\"Uploads file from path. Univariate time series\n",
    "        should be provided with two columns: date and values.\n",
    "        Sets column names to 'time' and 'value'.\n",
    "        \n",
    "        Args:\n",
    "            path (str): path to .csv with the data.\n",
    "            sample (str): represents sampling period.\n",
    "            \n",
    "        Returns:\n",
    "            None.\n",
    "        \"\"\"\n",
    "        try:\n",
    "            data = pd.read_csv(path, parse_dates=True, \n",
    "                               index_col=0, \n",
    "                               names=['time','value'])\n",
    "            \n",
    "            # resample xx minutes data to 1 hour\n",
    "            data = data.resample(sample).mean()\n",
    "            # just to visualize what you got :) \n",
    "            plt.plot(data)\n",
    "            \n",
    "            return data\n",
    "        \n",
    "        except FileNotFoundError:\n",
    "            raise FileNotFoundError('Provided path is invalid')\n",
    "    \n",
    "    def set_month_range(self, months=[6, 7, 8]) -> None:\n",
    "        \"\"\"Provides sub-frame based on months.\n",
    "        \n",
    "        Args:\n",
    "            months (List[int]): path to .csv with the data.\n",
    "        \n",
    "        Returns:\n",
    "            None.\n",
    "        \"\"\"\n",
    "        \n",
    "        self.sequence = self.sequence[\n",
    "            self.sequence.index.month.isin(months)]\n",
    "        \n",
    "    def train_test_split(self, train_percent=0.8) -> None:\n",
    "        \"\"\"Splits sequence to train and test (validation) sets.\n",
    "        \n",
    "        Args:\n",
    "            train_percent (float): percent of data goes to the \n",
    "                training set.\n",
    "        \n",
    "        Returns:\n",
    "            None.\n",
    "        \"\"\"\n",
    "        \n",
    "        training_length = math.ceil(len(self.sequence)*\n",
    "                                    train_percent)\n",
    "        self.train = self.sequence[0:training_length]\n",
    "        self.test = self.sequence[training_length:]\n",
    "    \n",
    "    def scale(self, scaling='norm') -> None:\n",
    "        \"\"\"Scales sequence to [0, 1] range ('norm')\n",
    "        or zero mean and 1 standard deviation. \n",
    "        Depends on sklearn.preprocessing module.\n",
    "        \n",
    "        Args:\n",
    "            scaling (str): scaling method.\n",
    "            'norm' - normalization\n",
    "            'standard': standardization. \n",
    "        \n",
    "        Returns:\n",
    "            None.\n",
    "        \"\"\"\n",
    "        if scaling == 'norm':\n",
    "            self.scaler = MinMaxScaler(feature_range=(0, 1))\n",
    "        elif scaling == 'standard':\n",
    "            self.scaler = StandardScaler()\n",
    "        \n",
    "        if self.train is not None and self.test is not None:\n",
    "            self.scaler.fit(self.train)\n",
    "            # remember to fit scaler on the training data firstly! \n",
    "            self.train_scaled = pd.DataFrame(\n",
    "                data=self.scaler.transform(self.train),\n",
    "                index=self.train.index, columns=['value'])\n",
    "            self.test_scaled = pd.DataFrame(\n",
    "                data=self.scaler.transform(self.test),\n",
    "                index=self.test.index, columns=['value'])\n",
    "        else:\n",
    "            raise ValueError('train_test_split must be invoked firstly')\n",
    "   \n",
    "    def transform(self, data_type='train', n_in=24, n_out=24, \n",
    "                      dropnan=True) -> Tuple[np.array, np.array]:\n",
    "        \"\"\"Converts train and test sequences to classification problem.\n",
    "        It is the legacy method. Applied only to the scaled data.\n",
    "        \n",
    "        Args:\n",
    "            data_type (str): specifies which data to transform.\n",
    "                'train' or 'test' are available options.\n",
    "            n_in (int): lag,  number of point used to \n",
    "                predict next sub-sequence.  \n",
    "            n_out (int): number of point to be predicted.\n",
    "            dropnan (bool): defines droping of nan contained \n",
    "                sub-sequences. \n",
    "        \n",
    "        Returns:\n",
    "            None.\n",
    "        \"\"\"\n",
    "        \n",
    "        if data_type == 'train':\n",
    "            data = self.train_scaled\n",
    "        elif data_type == 'test':\n",
    "            data = self.test_scaled\n",
    "        \n",
    "        variables = data.shape[1]\n",
    "        columns = []\n",
    "        column_names = []\n",
    "        \n",
    "        # foregoing sequence (x-n, ..., x-1)\n",
    "        for i in range(n_in, 0, -1):\n",
    "            columns.append(data.shift(i))\n",
    "            column_names += [('value%d(x-%d)' % (j+1, i)) \n",
    "                      for j in range(variables)]\n",
    "            \n",
    "        # forecast sequence (t, t+1, ... t+n)\n",
    "        for i in range(0, n_out):\n",
    "            columns.append(data.shift(-i))\n",
    "            if i == 0:\n",
    "                column_names += [('value%d(x)' % (j+1)) \n",
    "                          for j in range(variables)]\n",
    "            else:\n",
    "                column_names += [('value%d(x+%d)' % (j+1, i)) \n",
    "                          for j in range(variables)]\n",
    "\n",
    "        # concat everything into one data frame\n",
    "        df = pd.concat(columns, axis=1)\n",
    "        df.columns = column_names\n",
    "        \n",
    "        # get rid of nan's\n",
    "        if dropnan:\n",
    "            df.dropna(inplace=True)\n",
    "        \n",
    "        # convert data frames into the numpy arrays\n",
    "        x = df.iloc[:, :n_in].to_numpy()\n",
    "        y = df.iloc[:,:-n_out].to_numpy()\n",
    "        print(f'X shape: {x.shape}')\n",
    "        print(f'y shape: {y.shape}')\n",
    "        \n",
    "        return x, y\n",
    "    \n",
    "    def model_input_reshape(self, x1: np.array, \n",
    "                            x2: np.array) -> Tuple[np.array, np.array]:\n",
    "        \"\"\"Reshapes 2D arrays to 3D arrays. \n",
    "        Remember, LSTM wants input in [sample, step, feature] form.\n",
    "        \n",
    "        Args:\n",
    "            x1 (np.array): train numpy array.\n",
    "            x2 (np.array): test (validation) numpy array.\n",
    "       \n",
    "        Returns:\n",
    "            x1_new (np.array): train reshaped 3D array.\n",
    "            x2_new (np.array): test reshaped 3D array.\n",
    "        \"\"\"\n",
    "       \n",
    "        x1_new = np.reshape(x1, (x1.shape[0], x1.shape[1], 1))\n",
    "        x2_new = np.reshape(x2, (x2.shape[0], x2.shape[1], 1))\n",
    "        \n",
    "        print(f'x1 new shape: {x1_new.shape}')\n",
    "        print(f'x2 new shape: {x2_new.shape}')\n",
    "        \n",
    "        return x1_new, x2_new \n",
    "        \n",
    "    \n",
    "    def save_scaler(self, path='scaler.pkl'):\n",
    "        \"\"\"Saves scaler to the provided file path.\n",
    "        \n",
    "        Args:\n",
    "            path (str): path to scaler to be saved.\n",
    "        \n",
    "        Returns:\n",
    "            None.\n",
    "        \"\"\"\n",
    "        \n",
    "        dump(self.scaler, open(path, 'wb'))\n",
    "        print(f'Scaler has been saved to {path}')"
   ]
  },
  {
   "cell_type": "code",
   "execution_count": 39,
   "id": "crazy-chase",
   "metadata": {},
   "outputs": [
    {
     "data": {
      "image/png": "[encoded data removed]",
      "text/plain": [
       "<Figure size 432x288 with 1 Axes>"
      ]
     },
     "metadata": {
      "needs_background": "light"
     },
     "output_type": "display_data"
    }
   ],
   "source": [
    "umt = UnivariateMultiTransformer(path='B1/Space1/Air temperature.csv')\n",
    "umt.set_month_range()"
   ]
  },
  {
   "cell_type": "code",
   "execution_count": 40,
   "id": "fallen-recipe",
   "metadata": {},
   "outputs": [
    {
     "name": "stdout",
     "output_type": "stream",
     "text": [
      "Scaler has been saved to scaler.pkl\n"
     ]
    }
   ],
   "source": [
    "umt.train_test_split(train_percent=.8)\n",
    "umt.scale()\n",
    "umt.save_scaler()"
   ]
  },
  {
   "cell_type": "code",
   "execution_count": 42,
   "id": "peripheral-local",
   "metadata": {},
   "outputs": [
    {
     "name": "stdout",
     "output_type": "stream",
     "text": [
      "X shape: (1720, 24)\n",
      "y shape: (1720, 24)\n",
      "X shape: (394, 24)\n",
      "y shape: (394, 24)\n"
     ]
    }
   ],
   "source": [
    "# convert data to classification problem\n",
    "\n",
    "x_train_sc, y_train_sc = umt.transform(data_type='train', n_in=24, n_out=24)\n",
    "x_test_sc, y_test_sc = umt.transform(data_type='test', n_in=24, n_out=24)"
   ]
  },
  {
   "cell_type": "code",
   "execution_count": 43,
   "id": "irish-ancient",
   "metadata": {},
   "outputs": [
    {
     "name": "stdout",
     "output_type": "stream",
     "text": [
      "x1 new shape: (1720, 24, 1)\n",
      "x2 new shape: (394, 24, 1)\n"
     ]
    }
   ],
   "source": [
    "# reshape arrays for the model input\n",
    "\n",
    "x_train_sc, x_test_sc = umt.model_input_reshape(x1=x_train_sc, x2=x_test_sc)"
   ]
  },
  {
   "cell_type": "code",
   "execution_count": 96,
   "id": "checked-diana",
   "metadata": {},
   "outputs": [
    {
     "data": {
      "text/plain": [
       "24"
      ]
     },
     "execution_count": 96,
     "metadata": {},
     "output_type": "execute_result"
    }
   ],
   "source": [
    "steps = x_train_sc.shape[1]\n",
    "features = x_train_sc.shape[2]\n",
    "outputs = y_train_sc.shape[1]\n",
    "timesteps"
   ]
  },
  {
   "cell_type": "code",
   "execution_count": 97,
   "id": "ordered-visiting",
   "metadata": {},
   "outputs": [],
   "source": [
    "# PART 2. Model"
   ]
  },
  {
   "cell_type": "code",
   "execution_count": 58,
   "id": "compact-construction",
   "metadata": {},
   "outputs": [
    {
     "data": {
      "text/plain": [
       "'mse'"
      ]
     },
     "execution_count": 58,
     "metadata": {},
     "output_type": "execute_result"
    }
   ],
   "source": [
    "# read configs\n",
    "with open('config.json') as conf:\n",
    "    configs = json.load(conf)\n",
    "lstm_configs = LSTMConfig(configs[\"LSTM\"])\n",
    "\n",
    "lstm_configs.loss"
   ]
  },
  {
   "cell_type": "code",
   "execution_count": 56,
   "id": "seventh-penny",
   "metadata": {},
   "outputs": [],
   "source": [
    "# Better code organization, but ISSUES WITH serializing to H5f format!!!\n",
    "\n",
    "class ProtoModel(Model):\n",
    "    \n",
    "    def __init__(self):\n",
    "        super(ProtoModel, self).__init__()\n",
    "        \n",
    "        self.lstm_1 = LSTM(lstm_configs.layers['1']['n_neurons'], \n",
    "                         activation=lstm_configs.layers['1'][\"activation\"], \n",
    "                        input_shape=(lstm_configs.layers['1']['input_shape'][\"timesteps\"],\n",
    "                                    lstm_configs.layers['1']['input_shape'][\"features\"]),\n",
    "                        return_sequences=True)\n",
    "        '''\n",
    "        self.lstm_2 = LSTM(lstm_configs.layers['2'][\"n_neurons\"], \n",
    "                         activation=lstm_configs.layers['2'][\"activation\"], \n",
    "                           dropout=lstm_configs.layers['2'][\"dropout\"])\n",
    "        '''\n",
    "        \n",
    "        self.dense = Dense(lstm_configs.layers['2'][\"n_neurons\"])\n",
    "    \n",
    "    def call(self, inputs, training=True):\n",
    "        x = self.lstm_1(inputs)\n",
    "        x = self.lstm_2(x)\n",
    "        \n",
    "        return self.dense(x)"
   ]
  },
  {
   "cell_type": "code",
   "execution_count": 63,
   "id": "controlled-minutes",
   "metadata": {},
   "outputs": [],
   "source": [
    "# our straightforward simple model\n",
    "\n",
    "inputs = Input(shape=(lstm_configs.layers['1']['input_shape'][\"timesteps\"], \n",
    "                      lstm_configs.layers['1']['input_shape'][\"features\"]))\n",
    "\n",
    "x = LSTM(lstm_configs.layers['1']['n_neurons'], \n",
    "         activation=lstm_configs.layers['1'][\"activation\"],\n",
    "         input_shape=(lstm_configs.layers['1']['input_shape'][\"timesteps\"],\n",
    "                                    lstm_configs.layers['1']['input_shape'][\"features\"]))(inputs)\n",
    "\n",
    "outputs = Dense(lstm_configs.layers['2'][\"n_neurons\"])(x)\n",
    "model = Model(inputs=inputs, outputs=outputs)"
   ]
  },
  {
   "cell_type": "code",
   "execution_count": 64,
   "id": "worldwide-disability",
   "metadata": {},
   "outputs": [
    {
     "name": "stdout",
     "output_type": "stream",
     "text": [
      "Epoch 1/30\n",
      "54/54 [==============================] - 2s 28ms/step - loss: 0.0743 - val_loss: 0.0110\n",
      "Epoch 2/30\n",
      "54/54 [==============================] - 1s 25ms/step - loss: 0.0077 - val_loss: 0.0064\n",
      "Epoch 3/30\n",
      "54/54 [==============================] - 1s 24ms/step - loss: 0.0059 - val_loss: 0.0045\n",
      "Epoch 4/30\n",
      "54/54 [==============================] - 1s 26ms/step - loss: 0.0050 - val_loss: 0.0039\n",
      "Epoch 5/30\n",
      "54/54 [==============================] - 2s 28ms/step - loss: 0.0048 - val_loss: 0.0036\n",
      "Epoch 6/30\n",
      "54/54 [==============================] - 1s 26ms/step - loss: 0.0046 - val_loss: 0.0033\n",
      "Epoch 7/30\n",
      "54/54 [==============================] - 1s 26ms/step - loss: 0.0043 - val_loss: 0.0031\n",
      "Epoch 8/30\n",
      "54/54 [==============================] - 1s 27ms/step - loss: 0.0040 - val_loss: 0.0030\n",
      "Epoch 9/30\n",
      "54/54 [==============================] - 1s 26ms/step - loss: 0.0039 - val_loss: 0.0029\n",
      "Epoch 10/30\n",
      "54/54 [==============================] - 1s 25ms/step - loss: 0.0045 - val_loss: 0.0027\n",
      "Epoch 11/30\n",
      "54/54 [==============================] - 1s 26ms/step - loss: 0.0040 - val_loss: 0.0025\n",
      "Epoch 12/30\n",
      "54/54 [==============================] - 1s 25ms/step - loss: 0.0037 - val_loss: 0.0025\n",
      "Epoch 13/30\n",
      "54/54 [==============================] - 1s 25ms/step - loss: 0.0036 - val_loss: 0.0024\n",
      "Epoch 14/30\n",
      "54/54 [==============================] - 1s 25ms/step - loss: 0.0035 - val_loss: 0.0024\n",
      "Epoch 15/30\n",
      "54/54 [==============================] - 1s 25ms/step - loss: 0.0035 - val_loss: 0.0025\n",
      "Epoch 16/30\n",
      "54/54 [==============================] - 1s 25ms/step - loss: 0.0033 - val_loss: 0.0024\n",
      "Epoch 17/30\n",
      "54/54 [==============================] - 1s 26ms/step - loss: 0.0032 - val_loss: 0.0021\n",
      "Epoch 18/30\n",
      "54/54 [==============================] - 1s 26ms/step - loss: 0.0029 - val_loss: 0.0022\n",
      "Epoch 19/30\n",
      "54/54 [==============================] - 1s 26ms/step - loss: 0.0028 - val_loss: 0.0023\n",
      "Epoch 20/30\n",
      "54/54 [==============================] - 1s 26ms/step - loss: 0.0025 - val_loss: 0.0020\n",
      "Epoch 21/30\n",
      "54/54 [==============================] - 1s 27ms/step - loss: 0.0022 - val_loss: 0.0020\n",
      "Epoch 22/30\n",
      "54/54 [==============================] - 1s 25ms/step - loss: 0.0023 - val_loss: 0.0016\n",
      "Epoch 23/30\n",
      "54/54 [==============================] - 1s 25ms/step - loss: 0.0018 - val_loss: 0.0018\n",
      "Epoch 24/30\n",
      "54/54 [==============================] - 1s 26ms/step - loss: 0.0018 - val_loss: 0.0013\n",
      "Epoch 25/30\n",
      "54/54 [==============================] - 1s 25ms/step - loss: 0.0016 - val_loss: 0.0014\n",
      "Epoch 26/30\n",
      "54/54 [==============================] - 1s 26ms/step - loss: 0.0014 - val_loss: 0.0011\n",
      "Epoch 27/30\n",
      "54/54 [==============================] - 1s 25ms/step - loss: 0.0013 - val_loss: 0.0010\n",
      "Epoch 28/30\n",
      "54/54 [==============================] - 1s 25ms/step - loss: 0.0012 - val_loss: 9.4991e-04\n",
      "Epoch 29/30\n",
      "54/54 [==============================] - 1s 26ms/step - loss: 0.0012 - val_loss: 8.8199e-04\n",
      "Epoch 30/30\n",
      "54/54 [==============================] - 1s 26ms/step - loss: 0.0011 - val_loss: 8.1733e-04\n"
     ]
    }
   ],
   "source": [
    "# model training\n",
    "\n",
    "model.compile(loss=lstm_configs.loss, optimizer=lstm_configs.optimizer)\n",
    "\n",
    "h = model.fit(x_train_sc, y_train_sc, epochs=lstm_configs.epochs, \n",
    "              batch_size=lstm_configs.batch_size, verbose=lstm_configs.verbose, \n",
    "              validation_data=(x_test_sc, y_test_sc), shuffle=False)"
   ]
  },
  {
   "cell_type": "code",
   "execution_count": 65,
   "id": "consistent-cycling",
   "metadata": {},
   "outputs": [
    {
     "name": "stdout",
     "output_type": "stream",
     "text": [
      "me: -0.0387, rmse: 0.0347\n"
     ]
    }
   ],
   "source": [
    "# Get the predicted values\n",
    "predictions = model.predict(x_test_sc)\n",
    "\n",
    "# test predictions\n",
    "predictions_unscaled = umt.scaler.inverse_transform(predictions)\n",
    "y_unscaled = umt.scaler.inverse_transform(y_test_sc)\n",
    "\n",
    "# Get the root mean squarred error (RMSE) and the meadian error (ME)\n",
    "rmse = np.sqrt(np.mean(predictions_unscaled - y_unscaled) ** 2)\n",
    "me = np.median(y_unscaled - predictions_unscaled)\n",
    "print(\"me: \" + str(round(me, 4)) + \", rmse: \" + str(round(rmse, 4)))"
   ]
  },
  {
   "cell_type": "code",
   "execution_count": 76,
   "id": "loved-wealth",
   "metadata": {},
   "outputs": [
    {
     "data": {
      "text/plain": [
       "array([0.4219663 , 0.42427716, 0.41656718, 0.4116688 , 0.4026355 ,\n",
       "       0.38847506, 0.372634  , 0.36249068, 0.34426147, 0.3324969 ,\n",
       "       0.33426797, 0.3209122 , 0.31082144, 0.3150777 , 0.30335537,\n",
       "       0.30506086, 0.30375755, 0.3134001 , 0.3255052 , 0.3319078 ,\n",
       "       0.35248935, 0.37279642, 0.3666712 , 0.38671416], dtype=float32)"
      ]
     },
     "execution_count": 76,
     "metadata": {},
     "output_type": "execute_result"
    }
   ],
   "source": [
    "predictions[0]"
   ]
  },
  {
   "cell_type": "code",
   "execution_count": 70,
   "id": "white-composition",
   "metadata": {},
   "outputs": [],
   "source": [
    "# saving test numpy array\n",
    "\n",
    "with open('test.npy', 'wb') as f:\n",
    "    np.save(f, x_test_sc)"
   ]
  },
  {
   "cell_type": "code",
   "execution_count": 71,
   "id": "medieval-ready",
   "metadata": {},
   "outputs": [],
   "source": [
    "# saving the model\n",
    "model.save('model.h5')"
   ]
  },
  {
   "cell_type": "code",
   "execution_count": 137,
   "id": "coordinate-dutch",
   "metadata": {},
   "outputs": [],
   "source": [
    "with open('prediction.npy', 'wb') as f:\n",
    "    np.save(f, predictions_new_1)"
   ]
  },
  {
   "cell_type": "code",
   "execution_count": 74,
   "id": "limiting-commons",
   "metadata": {},
   "outputs": [
    {
     "data": {
      "text/plain": [
       "[<matplotlib.lines.Line2D at 0x7fe840514070>]"
      ]
     },
     "execution_count": 74,
     "metadata": {},
     "output_type": "execute_result"
    },
    {
     "data": {
      "image/png": "[encoded data removed]",
      "text/plain": [
       "<Figure size 432x288 with 1 Axes>"
      ]
     },
     "metadata": {
      "needs_background": "light"
     },
     "output_type": "display_data"
    }
   ],
   "source": [
    "# plot scaled predictions vs actual\n",
    "\n",
    "plt.plot(predictions[10])\n",
    "plt.plot(y_test_sc[10])"
   ]
  },
  {
   "cell_type": "code",
   "execution_count": 77,
   "id": "marine-fraud",
   "metadata": {},
   "outputs": [
    {
     "data": {
      "text/plain": [
       "[<matplotlib.lines.Line2D at 0x7fe840655610>]"
      ]
     },
     "execution_count": 77,
     "metadata": {},
     "output_type": "execute_result"
    },
    {
     "data": {
      "image/png": "[encoded data removed]",
      "text/plain": [
       "<Figure size 432x288 with 1 Axes>"
      ]
     },
     "metadata": {
      "needs_background": "light"
     },
     "output_type": "display_data"
    }
   ],
   "source": [
    "# plot predictions vs actual\n",
    "\n",
    "plt.plot(predictions_unscaled[1])\n",
    "plt.plot(y_unscaled[1])"
   ]
  },
  {
   "cell_type": "code",
   "execution_count": 78,
   "id": "norwegian-solomon",
   "metadata": {},
   "outputs": [
    {
     "data": {
      "text/plain": [
       "[<matplotlib.lines.Line2D at 0x7fe84c4a3a90>]"
      ]
     },
     "execution_count": 78,
     "metadata": {},
     "output_type": "execute_result"
    },
    {
     "data": {
      "image/png": "[encoded data removed]",
      "text/plain": [
       "<Figure size 432x288 with 1 Axes>"
      ]
     },
     "metadata": {
      "needs_background": "light"
     },
     "output_type": "display_data"
    }
   ],
   "source": [
    "plt.plot(h.history['loss'])\n",
    "plt.plot(h.history['val_loss'])"
   ]
  },
  {
   "cell_type": "code",
   "execution_count": null,
   "id": "liberal-accident",
   "metadata": {},
   "outputs": [],
   "source": []
  }
 ],
 "metadata": {
  "kernelspec": {
   "display_name": "Python 3",
   "language": "python",
   "name": "python3"
  },
  "language_info": {
   "codemirror_mode": {
    "name": "ipython",
    "version": 3
   },
   "file_extension": ".py",
   "mimetype": "text/x-python",
   "name": "python",
   "nbconvert_exporter": "python",
   "pygments_lexer": "ipython3",
   "version": "3.8.5"
  }
 },
 "nbformat": 4,
 "nbformat_minor": 5
}
